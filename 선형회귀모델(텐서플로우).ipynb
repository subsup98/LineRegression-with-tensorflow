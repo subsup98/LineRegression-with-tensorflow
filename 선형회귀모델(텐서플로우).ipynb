{
  "nbformat": 4,
  "nbformat_minor": 0,
  "metadata": {
    "colab": {
      "name": "선형회귀모델(텐서플로우)",
      "provenance": [],
      "collapsed_sections": [],
      "authorship_tag": "ABX9TyMpFAD6KNIsRDPJePtyLrRS",
      "include_colab_link": true
    },
    "kernelspec": {
      "name": "python3",
      "display_name": "Python 3"
    },
    "language_info": {
      "name": "python"
    }
  },
  "cells": [
    {
      "cell_type": "markdown",
      "metadata": {
        "id": "view-in-github",
        "colab_type": "text"
      },
      "source": [
        "<a href=\"https://colab.research.google.com/github/subsup98/LineRegression-with-tensorflow/blob/main/%EC%84%A0%ED%98%95%ED%9A%8C%EA%B7%80%EB%AA%A8%EB%8D%B8(%ED%85%90%EC%84%9C%ED%94%8C%EB%A1%9C%EC%9A%B0).ipynb\" target=\"_parent\"><img src=\"https://colab.research.google.com/assets/colab-badge.svg\" alt=\"Open In Colab\"/></a>"
      ]
    },
    {
      "cell_type": "markdown",
      "source": [
        "Code: linear regression in tensorflow \n",
        "\n",
        "Date: 2022/02/07 (version 1.0)\n",
        "\n",
        "Comments: YongSub Lim(dydtjqdla98@kyonggi.ac.kr) from Smart MOM&DAD Lab\n",
        "\n",
        "Description: 텐서플로우를 이용한 선형회귀모델 구축"
      ],
      "metadata": {
        "id": "zu-gEnNHz75l"
      }
    },
    {
      "cell_type": "code",
      "source": [
        "!sudo apt-get install -y fonts-nanum\n",
        "!sudo fc-cache -fv\n",
        "!rm ~/.cache/matplotlib -rf"
      ],
      "metadata": {
        "colab": {
          "base_uri": "https://localhost:8080/"
        },
        "id": "bGTlF4-jiUXr",
        "outputId": "c5a9e627-f644-4c9c-dc49-debfcbc322ce"
      },
      "execution_count": null,
      "outputs": [
        {
          "output_type": "stream",
          "name": "stdout",
          "text": [
            "Reading package lists... Done\n",
            "Building dependency tree       \n",
            "Reading state information... Done\n",
            "fonts-nanum is already the newest version (20170925-1).\n",
            "The following packages were automatically installed and are no longer required:\n",
            "  cuda-command-line-tools-10-0 cuda-command-line-tools-10-1\n",
            "  cuda-command-line-tools-11-0 cuda-compiler-10-0 cuda-compiler-10-1\n",
            "  cuda-compiler-11-0 cuda-cuobjdump-10-0 cuda-cuobjdump-10-1\n",
            "  cuda-cuobjdump-11-0 cuda-cupti-10-0 cuda-cupti-10-1 cuda-cupti-11-0\n",
            "  cuda-cupti-dev-11-0 cuda-documentation-10-0 cuda-documentation-10-1\n",
            "  cuda-documentation-11-0 cuda-documentation-11-1 cuda-gdb-10-0 cuda-gdb-10-1\n",
            "  cuda-gdb-11-0 cuda-gpu-library-advisor-10-0 cuda-gpu-library-advisor-10-1\n",
            "  cuda-libraries-10-0 cuda-libraries-10-1 cuda-libraries-11-0\n",
            "  cuda-memcheck-10-0 cuda-memcheck-10-1 cuda-memcheck-11-0 cuda-nsight-10-0\n",
            "  cuda-nsight-10-1 cuda-nsight-11-0 cuda-nsight-11-1 cuda-nsight-compute-10-0\n",
            "  cuda-nsight-compute-10-1 cuda-nsight-compute-11-0 cuda-nsight-compute-11-1\n",
            "  cuda-nsight-systems-10-1 cuda-nsight-systems-11-0 cuda-nsight-systems-11-1\n",
            "  cuda-nvcc-10-0 cuda-nvcc-10-1 cuda-nvcc-11-0 cuda-nvdisasm-10-0\n",
            "  cuda-nvdisasm-10-1 cuda-nvdisasm-11-0 cuda-nvml-dev-10-0 cuda-nvml-dev-10-1\n",
            "  cuda-nvml-dev-11-0 cuda-nvprof-10-0 cuda-nvprof-10-1 cuda-nvprof-11-0\n",
            "  cuda-nvprune-10-0 cuda-nvprune-10-1 cuda-nvprune-11-0 cuda-nvtx-10-0\n",
            "  cuda-nvtx-10-1 cuda-nvtx-11-0 cuda-nvvp-10-0 cuda-nvvp-10-1 cuda-nvvp-11-0\n",
            "  cuda-nvvp-11-1 cuda-samples-10-0 cuda-samples-10-1 cuda-samples-11-0\n",
            "  cuda-samples-11-1 cuda-sanitizer-11-0 cuda-sanitizer-api-10-1\n",
            "  cuda-toolkit-10-0 cuda-toolkit-10-1 cuda-toolkit-11-0 cuda-toolkit-11-1\n",
            "  cuda-tools-10-0 cuda-tools-10-1 cuda-tools-11-0 cuda-tools-11-1\n",
            "  cuda-visual-tools-10-0 cuda-visual-tools-10-1 cuda-visual-tools-11-0\n",
            "  cuda-visual-tools-11-1 default-jre dkms freeglut3 freeglut3-dev\n",
            "  keyboard-configuration libargon2-0 libcap2 libcryptsetup12\n",
            "  libdevmapper1.02.1 libfontenc1 libidn11 libip4tc0 libjansson4\n",
            "  libnvidia-cfg1-510 libnvidia-common-460 libnvidia-common-510\n",
            "  libnvidia-extra-510 libnvidia-fbc1-510 libnvidia-gl-510 libpam-systemd\n",
            "  libpolkit-agent-1-0 libpolkit-backend-1-0 libpolkit-gobject-1-0 libxfont2\n",
            "  libxi-dev libxkbfile1 libxmu-dev libxmu-headers libxnvctrl0 libxtst6\n",
            "  nsight-compute-2020.2.1 nsight-compute-2022.1.0 nsight-systems-2020.3.2\n",
            "  nsight-systems-2020.3.4 nsight-systems-2021.5.2 nvidia-dkms-510\n",
            "  nvidia-kernel-common-510 nvidia-kernel-source-510 nvidia-modprobe\n",
            "  nvidia-settings openjdk-11-jre policykit-1 policykit-1-gnome python3-xkit\n",
            "  screen-resolution-extra systemd systemd-sysv udev x11-xkb-utils\n",
            "  xserver-common xserver-xorg-core-hwe-18.04 xserver-xorg-video-nvidia-510\n",
            "Use 'sudo apt autoremove' to remove them.\n",
            "0 upgraded, 0 newly installed, 0 to remove and 39 not upgraded.\n",
            "/usr/share/fonts: caching, new cache contents: 0 fonts, 1 dirs\n",
            "/usr/share/fonts/truetype: caching, new cache contents: 0 fonts, 3 dirs\n",
            "/usr/share/fonts/truetype/humor-sans: caching, new cache contents: 1 fonts, 0 dirs\n",
            "/usr/share/fonts/truetype/liberation: caching, new cache contents: 16 fonts, 0 dirs\n",
            "/usr/share/fonts/truetype/nanum: caching, new cache contents: 10 fonts, 0 dirs\n",
            "/usr/local/share/fonts: caching, new cache contents: 0 fonts, 0 dirs\n",
            "/root/.local/share/fonts: skipping, no such directory\n",
            "/root/.fonts: skipping, no such directory\n",
            "/var/cache/fontconfig: cleaning cache directory\n",
            "/root/.cache/fontconfig: not cleaning non-existent cache directory\n",
            "/root/.fontconfig: not cleaning non-existent cache directory\n",
            "fc-cache: succeeded\n"
          ]
        }
      ]
    },
    {
      "cell_type": "code",
      "execution_count": null,
      "metadata": {
        "id": "1TRqooratiwy"
      },
      "outputs": [],
      "source": [
        "#선형회귀모델을 텐서플로우로 구현\n",
        "#우선 데이터 값을 받아오기\n",
        "from tensorflow.keras.datasets import boston_housing"
      ]
    },
    {
      "cell_type": "code",
      "source": [
        "#텐서플로우랑 케라스 import 해주기\n",
        "#데이터 전처리를 위해 pandas import \n",
        "import tensorflow as tf\n",
        "import keras_preprocessing\n",
        "import pandas as pd\n",
        "import numpy as np\n",
        "#데이터 시각화 패키지\n",
        "import seaborn as sns\n",
        "import matplotlib.pyplot as plt\n",
        "import matplotlib.font_manager as font_manager\n",
        "#한글 폰트설정\n",
        "plt.rc('font',family='NanumBarunGothic')"
      ],
      "metadata": {
        "id": "-2NHdzO5t6ou"
      },
      "execution_count": null,
      "outputs": []
    },
    {
      "cell_type": "code",
      "source": [
        "(train_X, train_Y), (test_X, test_Y)=tf.keras.datasets.boston_housing.load_data(\n",
        "    path='boston_housing.npz',test_split=0.2, seed=2022\n",
        ")"
      ],
      "metadata": {
        "id": "BKKgGeCg2vvw"
      },
      "execution_count": null,
      "outputs": []
    },
    {
      "cell_type": "code",
      "source": [
        "train_X"
      ],
      "metadata": {
        "id": "F3UqHvzn3y4l",
        "colab": {
          "base_uri": "https://localhost:8080/"
        },
        "outputId": "0b173a8b-8d29-41d4-dd5d-b378f7f66dc2"
      },
      "execution_count": null,
      "outputs": [
        {
          "output_type": "execute_result",
          "data": {
            "text/plain": [
              "array([[1.39600e-01, 0.00000e+00, 8.56000e+00, ..., 2.09000e+01,\n",
              "        3.92690e+02, 1.23300e+01],\n",
              "       [2.07162e+01, 0.00000e+00, 1.81000e+01, ..., 2.02000e+01,\n",
              "        3.70220e+02, 2.33400e+01],\n",
              "       [4.83567e+00, 0.00000e+00, 1.81000e+01, ..., 2.02000e+01,\n",
              "        3.88220e+02, 1.14500e+01],\n",
              "       ...,\n",
              "       [2.49800e-01, 0.00000e+00, 2.18900e+01, ..., 2.12000e+01,\n",
              "        3.92040e+02, 2.13200e+01],\n",
              "       [5.26930e-01, 0.00000e+00, 6.20000e+00, ..., 1.74000e+01,\n",
              "        3.82000e+02, 4.63000e+00],\n",
              "       [1.30751e+01, 0.00000e+00, 1.81000e+01, ..., 2.02000e+01,\n",
              "        3.96900e+02, 1.47600e+01]])"
            ]
          },
          "metadata": {},
          "execution_count": 5
        }
      ]
    },
    {
      "cell_type": "code",
      "source": [
        "train_Y"
      ],
      "metadata": {
        "colab": {
          "base_uri": "https://localhost:8080/"
        },
        "id": "32v5VNfHmggd",
        "outputId": "55566679-e556-4e33-bdee-cbedca88c3c9"
      },
      "execution_count": null,
      "outputs": [
        {
          "output_type": "execute_result",
          "data": {
            "text/plain": [
              "array([20.1, 11.9, 20.6, 33.2, 20.8, 13.5, 24.7, 13.9, 10.4, 19.7, 21.4,\n",
              "       20.3, 18.5, 12.7, 22. , 36.2,  7.4, 16.3, 23.3, 17.5, 21.5, 19.5,\n",
              "        8.8, 31.5, 50. , 50. , 23.7, 22.5, 18. , 27.9, 21.7, 28.6, 20. ,\n",
              "       17.5,  8.3, 12.1, 13.8, 27.1, 14.9, 21.9,  8.3, 15.1, 20.4,  8.5,\n",
              "       14.1, 37.9, 16.2, 13.9, 12.5, 15. , 22.3, 11.3, 32.2, 28.2, 23.8,\n",
              "       15.3, 24.3, 25. , 27.5, 19.4, 16.1, 27.5, 13.1, 30.1, 27.1, 18.9,\n",
              "       32.9, 21.2, 36.2, 18.1, 10.2, 23.1,  7.5, 20.1, 23.3, 14.4,  8.1,\n",
              "       10.2,  6.3, 29. , 16.2, 22. , 20.5, 22.8, 23.2,  9.7, 26.6, 27.9,\n",
              "        7.2, 36.5, 22.1, 25. , 23.9, 13.2, 16.7, 22. , 22.8, 19.4, 13.8,\n",
              "       23. , 33.1, 11.7, 44. , 22.3, 23.1, 17.4, 48.3, 29.1,  7. , 37.3,\n",
              "       14.1,  9.5,  5. , 20.6, 31.1, 24.1, 25. , 21.5, 20.6, 29. , 39.8,\n",
              "       23.3, 25.1, 22.9, 26.5, 19.6,  8.7, 23.1, 13.4, 14.9, 19.1, 14. ,\n",
              "       21.1, 22.6, 25. , 42.3, 25. ,  8.4, 29.9,  9.6, 35.2, 46.7, 33.1,\n",
              "       18.9,  7.2, 29.8, 17.5,  8.4, 15.2, 18.5, 18.4, 34.9, 50. , 50. ,\n",
              "       42.8, 19.4, 14.9, 21.4, 34.6, 22.2, 29.6, 19.8, 11.7, 20.4, 19.8,\n",
              "       17.8, 24.4,  5.6, 34.9, 27.5, 21.6,  8.5, 21.8, 23.1, 14.8, 23.2,\n",
              "       10.9, 33.3, 21.9, 15.6, 19.5, 21.7, 23.2, 18.2, 23.4, 24.3, 21.7,\n",
              "       16.1, 34.7, 29.1, 30.8, 18.8, 18.6, 21.7, 13. , 22. , 12.7, 15.2,\n",
              "       18.4, 24.6, 32.5, 16.6, 10.8, 20.6, 31.6, 25.2, 28. , 24.5, 22.5,\n",
              "       17.4, 23.8, 22. , 13.6, 23. , 36.1, 23.9, 31.7, 24.8, 20.8, 22.6,\n",
              "       28.4, 16.6, 22.4, 21. , 12.6, 21.1, 30.5, 13.6, 19.1, 19.2, 37.2,\n",
              "       25.3, 19.6, 28.4, 15.4, 43.5, 45.4, 27.5, 50. , 11.8, 30.1, 14.6,\n",
              "       19. , 50. , 23.7, 29.6, 30.1, 15.6, 31.6, 32.4, 17.8, 13.1, 24.2,\n",
              "       16.1, 10.4, 22.7, 34.9, 20.9, 22.8, 23.5, 22.8, 23.8, 18.3, 20.4,\n",
              "       22.6, 15.4, 13.3, 24.1, 13.4, 20.5, 33.4, 13.1, 24. , 36. , 19.3,\n",
              "       22.7, 24.8, 21.6, 15.6, 18.7, 28.7, 13.3, 24.8, 23.6, 24.7, 17.2,\n",
              "       17.3, 30.7, 44.8, 33.4, 17.1, 28.5, 19.9, 20. , 19.5, 24.7, 19.5,\n",
              "       13.8, 20.5, 20.7, 18.7, 48.8, 16.5, 21.4, 18.9, 12.7, 11.5, 21.9,\n",
              "       16.8, 20.6, 17.2, 21.2, 26.4, 19.1, 32. , 19.9, 30.3, 50. , 14.3,\n",
              "       23.2, 26.6, 20.6, 37. , 21.2, 50. , 17.7, 35.4, 33.8, 20.9, 14.5,\n",
              "       43.1, 18.6, 24.4, 28.7, 15. ,  8.8, 23.1, 24. , 16.8, 21.7, 22.9,\n",
              "       17.4, 12.3, 32.7, 18.7, 21. , 31.5, 33.2,  7. , 19.1, 24.5, 13.4,\n",
              "       19.4, 13.8, 18.2, 23.9, 19.4, 21.2, 20.4, 24.5, 46. , 14.5, 14.3,\n",
              "       22.9, 15.6, 35.4, 43.8, 17.1, 20.8, 10.2, 22.2, 26.4, 24.4, 21.2,\n",
              "       50. , 19.3, 21.7, 16.7, 18.5, 15. , 50. , 22.2, 24.1, 19.2, 32. ,\n",
              "       16.5, 19.7, 22.4, 18.2, 17.2, 50. , 23.3, 17.8, 14.1, 23.1, 20.2,\n",
              "       19.6, 17.9, 21.8, 11.9, 13.5, 13.3, 50. , 20.1])"
            ]
          },
          "metadata": {},
          "execution_count": 6
        }
      ]
    },
    {
      "cell_type": "code",
      "source": [
        "x_mean = train_X.mean(axis=0)\n",
        "x_std = train_X.std(axis=0)\n",
        "train_X -= x_mean\n",
        "train_X /= x_std\n",
        "test_X -= x_mean\n",
        "test_X /= x_std\n",
        "\n",
        "y_mean = train_Y.mean(axis=0)\n",
        "y_std = train_Y.std(axis=0)\n",
        "train_Y -= y_mean\n",
        "train_Y /= y_std\n",
        "test_Y -= y_mean\n",
        "test_Y /= y_std"
      ],
      "metadata": {
        "id": "6YHNDftlifPc"
      },
      "execution_count": null,
      "outputs": []
    },
    {
      "cell_type": "code",
      "source": [
        "print(train_X[2]) \n",
        "print(train_Y[1])"
      ],
      "metadata": {
        "colab": {
          "base_uri": "https://localhost:8080/"
        },
        "id": "aIlaK3s7qg48",
        "outputId": "7469fcc4-ac85-470c-b048-73f04bdab6f4"
      },
      "execution_count": null,
      "outputs": [
        {
          "output_type": "stream",
          "name": "stdout",
          "text": [
            "[ 0.11259723 -0.48226658  1.02629501 -0.26761547  0.23572214 -0.53354199\n",
            " -0.52069998 -0.28548767  1.62474056  1.50952915  0.78685139  0.36767029\n",
            " -0.16823505]\n",
            "-1.1475786082128712\n"
          ]
        }
      ]
    },
    {
      "cell_type": "code",
      "source": [
        "model = tf.keras.Sequential([\n",
        "    tf.keras.layers.Dense(units=100, activation='relu', input_shape=(13,)),\n",
        "    tf.keras.layers.Dense(units=50, activation='relu'),\n",
        "    tf.keras.layers.Dropout(0.5),\n",
        "    tf.keras.layers.Dense(units=25, activation='relu'),\n",
        "    tf.keras.layers.Dropout(0.5),\n",
        "    tf.keras.layers.Dense(units=1)# y 값이 1개 나오게만들기 위해서\n",
        "])#dence는 레이어 층의 갯수 1번째 레이어에 100개의 층 2번째 50개 3번째 25 4번째 1개"
      ],
      "metadata": {
        "id": "3ffh_Bu1s8E8"
      },
      "execution_count": null,
      "outputs": []
    },
    {
      "cell_type": "code",
      "source": [
        "model.compile(optimizer='sgd', loss='mse')#metrics=['accuracy']) #경사하강법 사용 lr = 0.01 손실함수 mse"
      ],
      "metadata": {
        "id": "deLQzY-os7-s"
      },
      "execution_count": null,
      "outputs": []
    },
    {
      "cell_type": "code",
      "source": [
        "history = model.fit(train_X, train_Y, epochs=100, batch_size=32, validation_split=0.25,verbose=1,\n",
        "                    callbacks=[tf.keras.callbacks.EarlyStopping(patience=10)])"
      ],
      "metadata": {
        "colab": {
          "base_uri": "https://localhost:8080/"
        },
        "id": "JcthHaZO1Bkl",
        "outputId": "91e61d17-8ff2-467a-9e38-d16ce4ebc6f4"
      },
      "execution_count": null,
      "outputs": [
        {
          "output_type": "stream",
          "name": "stdout",
          "text": [
            "Epoch 1/100\n",
            "10/10 [==============================] - 1s 21ms/step - loss: 0.1469 - val_loss: 0.1279\n",
            "Epoch 2/100\n",
            "10/10 [==============================] - 0s 7ms/step - loss: 0.1793 - val_loss: 0.1163\n",
            "Epoch 3/100\n",
            "10/10 [==============================] - 0s 5ms/step - loss: 0.1654 - val_loss: 0.1135\n",
            "Epoch 4/100\n",
            "10/10 [==============================] - 0s 6ms/step - loss: 0.1634 - val_loss: 0.1150\n",
            "Epoch 5/100\n",
            "10/10 [==============================] - 0s 6ms/step - loss: 0.1670 - val_loss: 0.1215\n",
            "Epoch 6/100\n",
            "10/10 [==============================] - 0s 5ms/step - loss: 0.1664 - val_loss: 0.1127\n",
            "Epoch 7/100\n",
            "10/10 [==============================] - 0s 7ms/step - loss: 0.1582 - val_loss: 0.1244\n",
            "Epoch 8/100\n",
            "10/10 [==============================] - 0s 7ms/step - loss: 0.1589 - val_loss: 0.1166\n",
            "Epoch 9/100\n",
            "10/10 [==============================] - 0s 7ms/step - loss: 0.2187 - val_loss: 0.1334\n",
            "Epoch 10/100\n",
            "10/10 [==============================] - 0s 5ms/step - loss: 0.1415 - val_loss: 0.1206\n",
            "Epoch 11/100\n",
            "10/10 [==============================] - 0s 6ms/step - loss: 0.1247 - val_loss: 0.1150\n",
            "Epoch 12/100\n",
            "10/10 [==============================] - 0s 5ms/step - loss: 0.1348 - val_loss: 0.1206\n",
            "Epoch 13/100\n",
            "10/10 [==============================] - 0s 5ms/step - loss: 0.1843 - val_loss: 0.1267\n",
            "Epoch 14/100\n",
            "10/10 [==============================] - 0s 7ms/step - loss: 0.1341 - val_loss: 0.1227\n",
            "Epoch 15/100\n",
            "10/10 [==============================] - 0s 5ms/step - loss: 0.1720 - val_loss: 0.1265\n",
            "Epoch 16/100\n",
            "10/10 [==============================] - 0s 6ms/step - loss: 0.1286 - val_loss: 0.1219\n"
          ]
        }
      ]
    },
    {
      "cell_type": "code",
      "source": [
        "plt.plot(history.history['loss'], 'b-', label='train_loss')\n",
        "plt.plot(history.history['val_loss'], 'r--', label='val_loss')\n",
        "plt.xlabel('Epoch')\n",
        "plt.ylabel('loss')\n",
        "plt.legend(loc='best')\n",
        "plt.show()"
      ],
      "metadata": {
        "colab": {
          "base_uri": "https://localhost:8080/",
          "height": 279
        },
        "id": "4oiSIh-T5np8",
        "outputId": "0872b8e0-4db1-485f-e1bb-1e1dd080bde8"
      },
      "execution_count": null,
      "outputs": [
        {
          "output_type": "display_data",
          "data": {
            "image/png": "[encoded data removed]",
            "text/plain": [
              "<Figure size 432x288 with 1 Axes>"
            ]
          },
          "metadata": {
            "needs_background": "light"
          }
        }
      ]
    },
    {
      "cell_type": "code",
      "source": [
        "model.evaluate(test_X, test_Y)"
      ],
      "metadata": {
        "colab": {
          "base_uri": "https://localhost:8080/"
        },
        "id": "TIoNezOC3PdE",
        "outputId": "50472133-3d46-4a56-fc83-da73ffffab1d"
      },
      "execution_count": null,
      "outputs": [
        {
          "output_type": "stream",
          "name": "stdout",
          "text": [
            "4/4 [==============================] - 0s 4ms/step - loss: 0.1320\n"
          ]
        },
        {
          "output_type": "execute_result",
          "data": {
            "text/plain": [
              "0.13203130662441254"
            ]
          },
          "metadata": {},
          "execution_count": 95
        }
      ]
    },
    {
      "cell_type": "code",
      "source": [
        "import matplotlib.pyplot as plt\n",
        "\n",
        "pred_Y = model.predict(test_X)\n",
        "\n",
        "plt.figure(figsize=(8, 8))\n",
        "plt.plot(test_Y, pred_Y, 'b.')\n",
        "plt.axis([min(test_Y), max(test_Y), min(test_Y), max(test_Y)])\n",
        "\n",
        "# y=x에 해당하는 대각선\n",
        "plt.plot([min(test_Y), max(test_Y)], [min(test_Y), max(test_Y)], ls=\"--\", c=\"red\")\n",
        "plt.xlabel('test_Y')\n",
        "plt.ylabel('pred_Y')\n",
        "\n",
        "plt.show()"
      ],
      "metadata": {
        "colab": {
          "base_uri": "https://localhost:8080/",
          "height": 590
        },
        "id": "WqcgjakV5GFt",
        "outputId": "60670bd2-60c4-476f-9994-4ee31867688f"
      },
      "execution_count": null,
      "outputs": [
        {
          "output_type": "stream",
          "name": "stderr",
          "text": [
            "/usr/local/lib/python3.7/dist-packages/matplotlib/backends/backend_agg.py:214: RuntimeWarning: Glyph 8722 missing from current font.\n",
            "  font.set_text(s, 0.0, flags=flags)\n",
            "/usr/local/lib/python3.7/dist-packages/matplotlib/backends/backend_agg.py:183: RuntimeWarning: Glyph 8722 missing from current font.\n",
            "  font.set_text(s, 0, flags=flags)\n"
          ]
        },
        {
          "output_type": "display_data",
          "data": {
            "image/png": "[encoded data removed]",
            "text/plain": [
              "<Figure size 576x576 with 1 Axes>"
            ]
          },
          "metadata": {
            "needs_background": "light"
          }
        }
      ]
    }
  ]
}